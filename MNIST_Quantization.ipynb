{
  "nbformat": 4,
  "nbformat_minor": 0,
  "metadata": {
    "colab": {
      "provenance": [],
      "gpuType": "T4"
    },
    "kernelspec": {
      "name": "python3",
      "display_name": "Python 3"
    },
    "language_info": {
      "name": "python"
    },
    "accelerator": "GPU"
  },
  "cells": [
    {
      "cell_type": "code",
      "execution_count": null,
      "metadata": {
        "id": "DBLUMOVrNDoe"
      },
      "outputs": [],
      "source": [
        "import tensorflow\n",
        "from tensorflow import keras\n",
        "import matplotlib.pyplot as plt\n",
        "import time\n",
        "import pathlib\n",
        "import tensorflow_model_optimization as tfmot"
      ]
    },
    {
      "cell_type": "code",
      "source": [
        "!pip install tensorflow_model_optimization"
      ],
      "metadata": {
        "colab": {
          "base_uri": "https://localhost:8080/"
        },
        "id": "7qyc9DygOAtr",
        "outputId": "43ea4987-73ab-4239-ef2b-f2549dd24a9d"
      },
      "execution_count": null,
      "outputs": [
        {
          "output_type": "stream",
          "name": "stdout",
          "text": [
            "Requirement already satisfied: tensorflow_model_optimization in /usr/local/lib/python3.11/dist-packages (0.8.0)\n",
            "Requirement already satisfied: absl-py~=1.2 in /usr/local/lib/python3.11/dist-packages (from tensorflow_model_optimization) (1.4.0)\n",
            "Requirement already satisfied: dm-tree~=0.1.1 in /usr/local/lib/python3.11/dist-packages (from tensorflow_model_optimization) (0.1.9)\n",
            "Requirement already satisfied: numpy~=1.23 in /usr/local/lib/python3.11/dist-packages (from tensorflow_model_optimization) (1.26.4)\n",
            "Requirement already satisfied: six~=1.14 in /usr/local/lib/python3.11/dist-packages (from tensorflow_model_optimization) (1.17.0)\n",
            "Requirement already satisfied: attrs>=18.2.0 in /usr/local/lib/python3.11/dist-packages (from dm-tree~=0.1.1->tensorflow_model_optimization) (25.3.0)\n",
            "Requirement already satisfied: wrapt>=1.11.2 in /usr/local/lib/python3.11/dist-packages (from dm-tree~=0.1.1->tensorflow_model_optimization) (1.17.2)\n"
          ]
        }
      ]
    },
    {
      "cell_type": "code",
      "source": [
        "from tensorflow_model_optimization.python.core.keras.compat import keras"
      ],
      "metadata": {
        "id": "9EfAxWURODiK"
      },
      "execution_count": null,
      "outputs": []
    },
    {
      "cell_type": "code",
      "source": [
        "(X_train, y_train), (X_test, y_test) = keras.datasets.mnist.load_data()\n",
        "X_train = X_train.reshape(60000, 28*28)\n",
        "X_test = X_test.reshape(10000, 28*28)\n",
        "print(X_train.shape)\n",
        "print(X_test.shape)\n",
        "print(y_train.shape)\n",
        "print(y_test.shape)"
      ],
      "metadata": {
        "colab": {
          "base_uri": "https://localhost:8080/"
        },
        "id": "kNjMzTtVOZ2T",
        "outputId": "7f3d45d8-c1b1-46d6-d261-21b039b952ed"
      },
      "execution_count": null,
      "outputs": [
        {
          "output_type": "stream",
          "name": "stdout",
          "text": [
            "Downloading data from https://storage.googleapis.com/tensorflow/tf-keras-datasets/mnist.npz\n",
            "11490434/11490434 [==============================] - 0s 0us/step\n",
            "(60000, 784)\n",
            "(10000, 784)\n",
            "(60000,)\n",
            "(10000,)\n"
          ]
        }
      ]
    },
    {
      "cell_type": "code",
      "source": [
        "# Requirements\n",
        "requirements1 = keras.callbacks.ModelCheckpoint(\n",
        "            \"/content/main/PQT_normal_model.keras\",\n",
        "            monitor=\"val_loss\",\n",
        "            verbose=0,\n",
        "            save_best_only=True,\n",
        "            save_weights_only=False,\n",
        "            mode=\"min\",\n",
        "            save_freq=\"epoch\")"
      ],
      "metadata": {
        "id": "E2s1U3PRQ6jj"
      },
      "execution_count": null,
      "outputs": []
    },
    {
      "cell_type": "code",
      "source": [
        "# Normal Model\n",
        "model = keras.Sequential()\n",
        "model.add(keras.layers.Input(shape = (784,)))\n",
        "model.add(keras.layers.Dense(50, activation = \"relu\"))\n",
        "model.add(keras.layers.Dense(50, activation = \"relu\"))\n",
        "model.add(keras.layers.Dense(10, activation = \"softmax\"))\n",
        "# Model summary\n",
        "model.summary()\n",
        "# Compiling the model\n",
        "model.compile(loss = \"sparse_categorical_crossentropy\", optimizer = 'adam', metrics = ['accuracy'])\n",
        "# Fitting the model\n",
        "history = model.fit(X_train, y_train, epochs = 10, batch_size = 256, validation_data = (X_test, y_test), callbacks = [requirements1])\n",
        "# Accuracy plot\n",
        "plt.subplot(1, 2, 1)\n",
        "plt.plot(history.history['accuracy'], label='Training Accuracy')\n",
        "plt.plot(history.history['val_accuracy'], label='Validation Accuracy')\n",
        "plt.title('Training and Validation Accuracy')\n",
        "plt.xlabel('Epoch')\n",
        "plt.ylabel('Accuracy')\n",
        "plt.legend()"
      ],
      "metadata": {
        "id": "viMZB798PQDv",
        "colab": {
          "base_uri": "https://localhost:8080/",
          "height": 1000
        },
        "outputId": "6b2ce477-2bbb-4e10-cae1-0dd4e9cddd8f"
      },
      "execution_count": null,
      "outputs": [
        {
          "output_type": "stream",
          "name": "stdout",
          "text": [
            "Model: \"sequential_3\"\n",
            "_________________________________________________________________\n",
            " Layer (type)                Output Shape              Param #   \n",
            "=================================================================\n",
            " dense_9 (Dense)             (None, 50)                39250     \n",
            "                                                                 \n",
            " dense_10 (Dense)            (None, 50)                2550      \n",
            "                                                                 \n",
            " dense_11 (Dense)            (None, 10)                510       \n",
            "                                                                 \n",
            "=================================================================\n",
            "Total params: 42310 (165.27 KB)\n",
            "Trainable params: 42310 (165.27 KB)\n",
            "Non-trainable params: 0 (0.00 Byte)\n",
            "_________________________________________________________________\n",
            "Epoch 1/10\n",
            "235/235 [==============================] - 2s 4ms/step - loss: 4.5235 - accuracy: 0.6855 - val_loss: 0.9506 - val_accuracy: 0.7648\n",
            "Epoch 2/10\n",
            "235/235 [==============================] - 1s 3ms/step - loss: 0.7446 - accuracy: 0.8190 - val_loss: 0.6401 - val_accuracy: 0.8514\n",
            "Epoch 3/10\n",
            "235/235 [==============================] - 1s 3ms/step - loss: 0.5185 - accuracy: 0.8721 - val_loss: 0.5134 - val_accuracy: 0.8799\n",
            "Epoch 4/10\n",
            "235/235 [==============================] - 1s 4ms/step - loss: 0.4098 - accuracy: 0.8938 - val_loss: 0.4166 - val_accuracy: 0.8980\n",
            "Epoch 5/10\n",
            "235/235 [==============================] - 1s 3ms/step - loss: 0.3424 - accuracy: 0.9099 - val_loss: 0.3854 - val_accuracy: 0.9092\n",
            "Epoch 6/10\n",
            "235/235 [==============================] - 1s 4ms/step - loss: 0.2956 - accuracy: 0.9206 - val_loss: 0.3672 - val_accuracy: 0.9181\n",
            "Epoch 7/10\n",
            "235/235 [==============================] - 1s 4ms/step - loss: 0.2621 - accuracy: 0.9292 - val_loss: 0.3270 - val_accuracy: 0.9246\n",
            "Epoch 8/10\n",
            "235/235 [==============================] - 1s 4ms/step - loss: 0.2325 - accuracy: 0.9353 - val_loss: 0.3028 - val_accuracy: 0.9297\n",
            "Epoch 9/10\n",
            "235/235 [==============================] - 1s 4ms/step - loss: 0.2113 - accuracy: 0.9413 - val_loss: 0.2959 - val_accuracy: 0.9322\n",
            "Epoch 10/10\n",
            "235/235 [==============================] - 1s 4ms/step - loss: 0.1942 - accuracy: 0.9458 - val_loss: 0.2784 - val_accuracy: 0.9364\n"
          ]
        },
        {
          "output_type": "execute_result",
          "data": {
            "text/plain": [
              "<matplotlib.legend.Legend at 0x7c99ec216dd0>"
            ]
          },
          "metadata": {},
          "execution_count": 17
        },
        {
          "output_type": "display_data",
          "data": {
            "text/plain": [
              "<Figure size 640x480 with 1 Axes>"
            ],
            "image/png": "[encoded data removed]"
          },
          "metadata": {}
        }
      ]
    },
    {
      "cell_type": "markdown",
      "source": [
        "#PQT- Compression"
      ],
      "metadata": {
        "id": "ERej0BWjhXwp"
      }
    },
    {
      "cell_type": "code",
      "source": [
        "# loading the normal model\n",
        "start1 = time.time()\n",
        "model1 = keras.models.load_model(\"/content/main/PQT_normal_model.keras\")\n",
        "end1 = time.time()\n",
        "total1 = end1 - start1\n",
        "print(f\"Total time taken to load normal model is {total1}\")\n",
        "#model1.summary()\n",
        "\n",
        "# convert the model\n",
        "converter = tensorflow.lite.TFLiteConverter.from_keras_model(model1)\n",
        "converter.optimizations = [tensorflow.lite.Optimize.DEFAULT]\n",
        "tflite_quant_model = converter.convert()\n",
        "\n",
        "# save the model\n",
        "with open((\"/content/main/PQT_compressed_model.tflite\"), mode = 'wb') as file:\n",
        "    file.write(tflite_quant_model)\n",
        "\n",
        "# Loading tflite model\n",
        "start2 = time.time()\n",
        "compressed_model = tensorflow.lite.Interpreter(model_path = r\"/content/main/PQT_compressed_model.tflite\")\n",
        "compressed_model.allocate_tensors()\n",
        "end2 = time.time()\n",
        "total2 = end2 - start2\n",
        "print(f\"Total time taken to load quantized model is {total2}\")"
      ],
      "metadata": {
        "colab": {
          "base_uri": "https://localhost:8080/"
        },
        "id": "vueptOEXgyJq",
        "outputId": "4ab9fb93-bbbd-4f2a-aa12-9414d0a58cd3"
      },
      "execution_count": null,
      "outputs": [
        {
          "output_type": "stream",
          "name": "stdout",
          "text": [
            "Total time taken to load normal model is 0.09235548973083496\n",
            "Total time taken to load quantized model is 0.037346839904785156\n"
          ]
        }
      ]
    },
    {
      "cell_type": "markdown",
      "source": [
        "# PQT- Compression + Quantization"
      ],
      "metadata": {
        "id": "NKSjl3q_j5vH"
      }
    },
    {
      "cell_type": "code",
      "source": [
        "# load the model\n",
        "model2 = keras.models.load_model(\"/content/main/PQT_normal_model.keras\")\n",
        "#model2.summary()\n",
        "\n",
        "# Quantize the loaded model\n",
        "quantize_model = tfmot.quantization.keras.quantize_model\n",
        "quantized_model = quantize_model(model2)\n",
        "\n",
        "# convert the model\n",
        "converter = tensorflow.lite.TFLiteConverter.from_keras_model(quantized_model)\n",
        "converter.optimizations = [tensorflow.lite.Optimize.DEFAULT]\n",
        "tflite_quant_model = converter.convert()\n",
        "\n",
        "# save the model\n",
        "with open((\"/content/main/PQT_compressed_quantize_model.tflite\"), mode = 'wb') as file:\n",
        "    file.write(tflite_quant_model)"
      ],
      "metadata": {
        "colab": {
          "base_uri": "https://localhost:8080/"
        },
        "id": "3ljdLoyhhwkp",
        "outputId": "527bf1c1-794b-49e0-cdf1-b36734e869e3"
      },
      "execution_count": null,
      "outputs": [
        {
          "output_type": "stream",
          "name": "stderr",
          "text": [
            "/usr/local/lib/python3.11/dist-packages/tensorflow/lite/python/convert.py:997: UserWarning: Statistics for quantized inputs were expected, but not specified; continuing anyway.\n",
            "  warnings.warn(\n"
          ]
        }
      ]
    },
    {
      "cell_type": "markdown",
      "source": [
        "# Quantization Aware Training"
      ],
      "metadata": {
        "id": "XRwGTpTKk0HL"
      }
    },
    {
      "cell_type": "markdown",
      "source": [
        "* Normal Approach: Create a model --> compile the model --> fit the model\n",
        " Graph( TA vs VA) and (TL vs VL)\n",
        "* Quantization Aware Approach: Create a model --> quantize the model --> compile the model --> fit the model\n",
        " Graph( TA vs VA) and (TL vs VL)"
      ],
      "metadata": {
        "id": "_RApkUc0lRHP"
      }
    },
    {
      "cell_type": "markdown",
      "source": [
        "* Normal Approach: Create a model --> compile the model --> fit the model\n",
        "Graph( TA vs VA) and (TL vs VL)"
      ],
      "metadata": {
        "id": "dfiDFO9elXcg"
      }
    },
    {
      "cell_type": "code",
      "source": [
        "# Requirements\n",
        "requirements2 = keras.callbacks.ModelCheckpoint(\n",
        "            \"/content/main/QAT_normal_model.keras\",\n",
        "            monitor=\"val_loss\",\n",
        "            verbose=0,\n",
        "            save_best_only=True,\n",
        "            save_weights_only=False,\n",
        "            mode=\"min\",\n",
        "            save_freq=\"epoch\")"
      ],
      "metadata": {
        "id": "wVzUKffDiva5"
      },
      "execution_count": null,
      "outputs": []
    },
    {
      "cell_type": "code",
      "source": [
        "# Training model for QAT\n",
        "model3 = keras.Sequential()\n",
        "model3.add(keras.layers.Input(shape = (784,)))\n",
        "model3.add(keras.layers.Dense(100, activation = 'relu'))\n",
        "model3.add(keras.layers.Dense(100, activation = 'relu'))\n",
        "model3.add(keras.layers.Dense(10, activation = 'softmax'))\n",
        "\n",
        "# Then Quantize the model\n",
        "quantize_model = tfmot.quantization.keras.quantize_model\n",
        "quantized_model = quantize_model(model3)\n",
        "\n",
        "# Then compile the quantized model\n",
        "quantized_model.compile(loss = 'sparse_categorical_crossentropy', optimizer = 'adam', metrics = ['accuracy'])\n",
        "history2 = quantized_model.fit(X_train, y_train, batch_size = 256, epochs = 10, validation_data = (X_test, y_test), callbacks = [requirements2], verbose = 1)"
      ],
      "metadata": {
        "colab": {
          "base_uri": "https://localhost:8080/"
        },
        "id": "i11tY5Hfnfq5",
        "outputId": "d6b8bab6-3a75-4eb6-8e6f-0fd62ad6e50c"
      },
      "execution_count": null,
      "outputs": [
        {
          "output_type": "stream",
          "name": "stdout",
          "text": [
            "Epoch 1/10\n",
            "235/235 [==============================] - 3s 6ms/step - loss: 1.0276 - accuracy: 0.7164 - val_loss: 0.7047 - val_accuracy: 0.7846\n",
            "Epoch 2/10\n",
            "235/235 [==============================] - 2s 7ms/step - loss: 0.7584 - accuracy: 0.7379 - val_loss: 0.7071 - val_accuracy: 0.7478\n",
            "Epoch 3/10\n",
            "235/235 [==============================] - 1s 6ms/step - loss: 0.8309 - accuracy: 0.6650 - val_loss: 0.9611 - val_accuracy: 0.6434\n",
            "Epoch 4/10\n",
            "235/235 [==============================] - 1s 5ms/step - loss: 0.8619 - accuracy: 0.6375 - val_loss: 1.0840 - val_accuracy: 0.6416\n",
            "Epoch 5/10\n",
            "235/235 [==============================] - 1s 5ms/step - loss: 1.0010 - accuracy: 0.5848 - val_loss: 1.3396 - val_accuracy: 0.5484\n",
            "Epoch 6/10\n",
            "235/235 [==============================] - 1s 5ms/step - loss: 1.1942 - accuracy: 0.5532 - val_loss: 1.5372 - val_accuracy: 0.5312\n",
            "Epoch 7/10\n",
            "235/235 [==============================] - 1s 5ms/step - loss: 1.4446 - accuracy: 0.5177 - val_loss: 2.0227 - val_accuracy: 0.6448\n",
            "Epoch 8/10\n",
            "235/235 [==============================] - 1s 5ms/step - loss: 1.6076 - accuracy: 0.5510 - val_loss: 2.2832 - val_accuracy: 0.5253\n",
            "Epoch 9/10\n",
            "235/235 [==============================] - 1s 5ms/step - loss: 1.8291 - accuracy: 0.5988 - val_loss: 2.3838 - val_accuracy: 0.5233\n",
            "Epoch 10/10\n",
            "235/235 [==============================] - 1s 5ms/step - loss: 2.4220 - accuracy: 0.5833 - val_loss: 5.9668 - val_accuracy: 0.6698\n"
          ]
        }
      ]
    },
    {
      "cell_type": "code",
      "source": [
        "# convert the model\n",
        "converter = tensorflow.lite.TFLiteConverter.from_keras_model(quantized_model)\n",
        "converter.optimizations = [tensorflow.lite.Optimize.DEFAULT]\n",
        "tflite_quant_model = converter.convert()\n",
        "\n",
        "# save the model\n",
        "with open((\"/content/main/QAT_quantized_model.tflite\"), mode = 'wb') as file:\n",
        "    file.write(tflite_quant_model)\n",
        "\n",
        "# Loading tflite model\n",
        "start3 = time.time()\n",
        "compressed_model = tensorflow.lite.Interpreter(model_path = r\"/content/main/QAT_quantized_model.tflite\")\n",
        "compressed_model.allocate_tensors()\n",
        "end3 = time.time()\n",
        "total3 = end3 - start3\n",
        "print(f\"Total time taken to load quantized model is {total3}\")"
      ],
      "metadata": {
        "colab": {
          "base_uri": "https://localhost:8080/"
        },
        "id": "vWxV9HLHoWcx",
        "outputId": "d319058b-ce5c-48b0-bb74-804f942dd044"
      },
      "execution_count": null,
      "outputs": [
        {
          "output_type": "stream",
          "name": "stderr",
          "text": [
            "/usr/local/lib/python3.11/dist-packages/tensorflow/lite/python/convert.py:997: UserWarning: Statistics for quantized inputs were expected, but not specified; continuing anyway.\n",
            "  warnings.warn(\n"
          ]
        },
        {
          "output_type": "stream",
          "name": "stdout",
          "text": [
            "Total time taken to load quantized model is 0.0009307861328125\n"
          ]
        }
      ]
    },
    {
      "cell_type": "code",
      "source": [
        "# Time taken to load the QAT quatized model\n",
        "start4 = time.time()\n",
        "compressed_model = tensorflow.lite.Interpreter(model_path = r\"/content/main/QAT_quantized_model.tflite\")\n",
        "compressed_model.allocate_tensors()\n",
        "end4 = time.time()\n",
        "total4 = end4 - start4\n",
        "print(f\"Total time taken to load QAT quantized model is {total4}\")"
      ],
      "metadata": {
        "colab": {
          "base_uri": "https://localhost:8080/"
        },
        "id": "kMN8TBYrsAqy",
        "outputId": "dca36035-ddd1-4995-a845-c8b3149025d4"
      },
      "execution_count": null,
      "outputs": [
        {
          "output_type": "stream",
          "name": "stdout",
          "text": [
            "Total time taken to load QAT quantized model is 0.0006551742553710938\n"
          ]
        }
      ]
    },
    {
      "cell_type": "markdown",
      "source": [
        "# Conclusion"
      ],
      "metadata": {
        "id": "xEhAXgGJJo_m"
      }
    },
    {
      "cell_type": "markdown",
      "source": [
        "| Model Type                     | File Size | Loss    | Accuracy | Load Time (seconds) |\n",
        "|---------------------------------|-----------|---------|----------|--------------------|\n",
        "| Normal Model                    | 522 KB    | 0.1653  | 0.9531   | 0.0897             |\n",
        "| PQT Compressed + Quantized Model | 45 KB     | 0.0903  | 0.9731   | 0.0359             |\n",
        "| QAT Quantized Model              | 92 KB     | 0.9505  | 0.7449   | 0.0006             |"
      ],
      "metadata": {
        "id": "y7K_6XDMJmSs"
      }
    },
    {
      "cell_type": "code",
      "source": [],
      "metadata": {
        "id": "FkPMPQ42JlZO"
      },
      "execution_count": null,
      "outputs": []
    }
  ]
}